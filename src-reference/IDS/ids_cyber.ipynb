{
  "cells": [
    {
      "cell_type": "code",
      "execution_count": null,
      "metadata": {
        "colab": {
          "base_uri": "https://localhost:8080/",
          "height": 35
        },
        "colab_type": "code",
        "id": "ABqyvKRw3hY8",
        "outputId": "8c4cfc89-415e-4b31-f23a-e1c0a3abdab8"
      },
      "outputs": [
        {
          "name": "stdout",
          "output_type": "stream",
          "text": [
            "Mounted at /content/gdrive\n"
          ]
        }
      ],
      "source": [
        "from google.colab import drive\n",
        "from google.colab import files\n",
        "\n",
        "\n",
        "drive.mount('/content/gdrive',force_remount=True)\n",
        "root_path = 'gdrive/My Drive/ids_data/'\n"
      ]
    },
    {
      "cell_type": "code",
      "execution_count": null,
      "metadata": {
        "colab": {},
        "colab_type": "code",
        "id": "WGLINbJA3hYs"
      },
      "outputs": [],
      "source": [
        "%matplotlib inline\n",
        "import matplotlib\n",
        "import matplotlib.pyplot as plt\n",
        "import pandas as pd\n",
        "import numpy as np\n",
        "\n"
      ]
    },
    {
      "cell_type": "code",
      "execution_count": null,
      "metadata": {
        "colab": {},
        "colab_type": "code",
        "id": "HhO6H9Kb3hZE"
      },
      "outputs": [],
      "source": [
        "#start\n",
        "datacols = [\"duration\",\"protocol_type\",\"service\",\"flag\",\"src_bytes\",\n",
        "    \"dst_bytes\",\"land\",\"wrong_fragment\",\"urgent\",\"hot\",\"num_failed_logins\",\n",
        "    \"logged_in\",\"num_compromised\",\"root_shell\",\"su_attempted\",\"num_root\",\n",
        "    \"num_file_creations\",\"num_shells\",\"num_access_files\",\"num_outbound_cmds\",\n",
        "    \"is_host_login\",\"is_guest_login\",\"count\",\"srv_count\",\"serror_rate\",\n",
        "    \"srv_serror_rate\",\"rerror_rate\",\"srv_rerror_rate\",\"same_srv_rate\",\n",
        "    \"diff_srv_rate\",\"srv_diff_host_rate\",\"dst_host_count\",\"dst_host_srv_count\",\n",
        "    \"dst_host_same_srv_rate\",\"dst_host_diff_srv_rate\",\"dst_host_same_src_port_rate\",\n",
        "    \"dst_host_srv_diff_host_rate\",\"dst_host_serror_rate\",\"dst_host_srv_serror_rate\",\n",
        "    \"dst_host_rerror_rate\",\"dst_host_srv_rerror_rate\",\"attack\", \"last_flag\"]\n",
        "\n",
        "# Load NSL_KDD train dataset\n",
        "data_train = pd.read_table(\"/content/gdrive/My Drive/ids_data/KDDTrain.txt\", sep=\",\", names=datacols) # change path to where the dataset is located.\n",
        "data_train = data_train.iloc[:,:-1] # removes an unwanted extra field\n",
        "# Load NSL_KDD test dataset\n",
        "data_test = pd.read_table(\"/content/gdrive/My Drive/ids_data/KDDTest.txt\", sep=\",\", names=datacols)\n",
        "data_test = data_test.iloc[:,:-1]\n"
      ]
    },
    {
      "cell_type": "code",
      "execution_count": null,
      "metadata": {
        "colab": {},
        "colab_type": "code",
        "id": "M_qJUZRP3hZL"
      },
      "outputs": [],
      "source": [
        "# mapping = {'ipsweep': 'Probe','satan': 'Probe','nmap': 'Probe','portsweep': 'Probe','saint': 'Probe','mscan': 'Probe',\n",
        "#         'teardrop': 'DoS','pod': 'DoS','land': 'DoS','back': 'DoS','neptune': 'DoS','smurf': 'DoS','mailbomb': 'DoS',\n",
        "#         'udpstorm': 'DoS','apache2': 'DoS','processtable': 'DoS',\n",
        "#         'perl': 'U2R','loadmodule': 'U2R','rootkit': 'U2R','buffer_overflow': 'U2R','xterm': 'U2R','ps': 'U2R',\n",
        "#         'sqlattack': 'U2R','httptunnel': 'U2R',\n",
        "#         'ftp_write': 'R2L','phf': 'R2L','guess_passwd': 'R2L','warezmaster': 'R2L','warezclient': 'R2L','imap': 'R2L',\n",
        "#         'spy': 'R2L','multihop': 'R2L','named': 'R2L','snmpguess': 'R2L','worm': 'R2L','snmpgetattack': 'R2L',\n",
        "#         'xsnoop': 'R2L','xlock': 'R2L','sendmail': 'R2L',\n",
        "#         'normal': 'Normal'\n",
        "#         }"
      ]
    },
    {
      "cell_type": "code",
      "execution_count": null,
      "metadata": {
        "colab": {},
        "colab_type": "code",
        "id": "u89UzqKz3hZP"
      },
      "outputs": [],
      "source": [
        "# # 'num_outbound_cmds' field has all 0 values. Hence, it will be removed from both train and test dataset since it is a redundant field.\n",
        "# data_train['attack_class'] = data_train['attack'].apply(lambda v: mapping[v])\n",
        "# data_test['attack_class'] = data_test['attack'].apply(lambda v: mapping[v])"
      ]
    },
    {
      "cell_type": "code",
      "execution_count": null,
      "metadata": {
        "colab": {},
        "colab_type": "code",
        "id": "7LwKuvuq3hZS",
        "outputId": "0bc59eb6-5a5b-48ab-9e47-e52abde72258"
      },
      "outputs": [
        {
          "data": {
            "text/html": [
              "<div>\n",
              "<style scoped>\n",
              "    .dataframe tbody tr th:only-of-type {\n",
              "        vertical-align: middle;\n",
              "    }\n",
              "\n",
              "    .dataframe tbody tr th {\n",
              "        vertical-align: top;\n",
              "    }\n",
              "\n",
              "    .dataframe thead th {\n",
              "        text-align: right;\n",
              "    }\n",
              "</style>\n",
              "<table border=\"1\" class=\"dataframe\">\n",
              "  <thead>\n",
              "    <tr style=\"text-align: right;\">\n",
              "      <th></th>\n",
              "      <th>src_bytes</th>\n",
              "      <th>dst_bytes</th>\n",
              "      <th>logged_in</th>\n",
              "      <th>count</th>\n",
              "      <th>dst_host_srv_count</th>\n",
              "      <th>dst_host_diff_srv_rate</th>\n",
              "      <th>dst_host_same_src_port_rate</th>\n",
              "      <th>dst_host_srv_serror_rate</th>\n",
              "      <th>service</th>\n",
              "      <th>attack</th>\n",
              "    </tr>\n",
              "  </thead>\n",
              "  <tbody>\n",
              "    <tr>\n",
              "      <td>0</td>\n",
              "      <td>491</td>\n",
              "      <td>0</td>\n",
              "      <td>0</td>\n",
              "      <td>2</td>\n",
              "      <td>25</td>\n",
              "      <td>0.03</td>\n",
              "      <td>0.17</td>\n",
              "      <td>0.00</td>\n",
              "      <td>ftp_data</td>\n",
              "      <td>normal</td>\n",
              "    </tr>\n",
              "    <tr>\n",
              "      <td>1</td>\n",
              "      <td>146</td>\n",
              "      <td>0</td>\n",
              "      <td>0</td>\n",
              "      <td>13</td>\n",
              "      <td>1</td>\n",
              "      <td>0.60</td>\n",
              "      <td>0.88</td>\n",
              "      <td>0.00</td>\n",
              "      <td>other</td>\n",
              "      <td>normal</td>\n",
              "    </tr>\n",
              "    <tr>\n",
              "      <td>2</td>\n",
              "      <td>0</td>\n",
              "      <td>0</td>\n",
              "      <td>0</td>\n",
              "      <td>123</td>\n",
              "      <td>26</td>\n",
              "      <td>0.05</td>\n",
              "      <td>0.00</td>\n",
              "      <td>1.00</td>\n",
              "      <td>private</td>\n",
              "      <td>neptune</td>\n",
              "    </tr>\n",
              "    <tr>\n",
              "      <td>3</td>\n",
              "      <td>232</td>\n",
              "      <td>8153</td>\n",
              "      <td>1</td>\n",
              "      <td>5</td>\n",
              "      <td>255</td>\n",
              "      <td>0.00</td>\n",
              "      <td>0.03</td>\n",
              "      <td>0.01</td>\n",
              "      <td>http</td>\n",
              "      <td>normal</td>\n",
              "    </tr>\n",
              "    <tr>\n",
              "      <td>4</td>\n",
              "      <td>199</td>\n",
              "      <td>420</td>\n",
              "      <td>1</td>\n",
              "      <td>30</td>\n",
              "      <td>255</td>\n",
              "      <td>0.00</td>\n",
              "      <td>0.00</td>\n",
              "      <td>0.00</td>\n",
              "      <td>http</td>\n",
              "      <td>normal</td>\n",
              "    </tr>\n",
              "  </tbody>\n",
              "</table>\n",
              "</div>"
            ],
            "text/plain": [
              "   src_bytes  dst_bytes  logged_in  count  dst_host_srv_count  \\\n",
              "0        491          0          0      2                  25   \n",
              "1        146          0          0     13                   1   \n",
              "2          0          0          0    123                  26   \n",
              "3        232       8153          1      5                 255   \n",
              "4        199        420          1     30                 255   \n",
              "\n",
              "   dst_host_diff_srv_rate  dst_host_same_src_port_rate  \\\n",
              "0                    0.03                         0.17   \n",
              "1                    0.60                         0.88   \n",
              "2                    0.05                         0.00   \n",
              "3                    0.00                         0.03   \n",
              "4                    0.00                         0.00   \n",
              "\n",
              "   dst_host_srv_serror_rate   service   attack  \n",
              "0                      0.00  ftp_data   normal  \n",
              "1                      0.00     other   normal  \n",
              "2                      1.00   private  neptune  \n",
              "3                      0.01      http   normal  \n",
              "4                      0.00      http   normal  "
            ]
          },
          "execution_count": 33,
          "metadata": {
            "tags": []
          },
          "output_type": "execute_result"
        }
      ],
      "source": [
        "data_train.head(5)"
      ]
    },
    {
      "cell_type": "code",
      "execution_count": null,
      "metadata": {
        "colab": {},
        "colab_type": "code",
        "id": "YzL6I5U13hZZ"
      },
      "outputs": [],
      "source": [
        "# data_train.drop(['num_outbound_cmds'], axis=1, inplace=True)\n",
        "# data_test.drop(['num_outbound_cmds'], axis=1, inplace=True)\n",
        "# # Attack Class Distribution\n",
        "# attack_class_freq_train = data_train[['attack_class']].apply(lambda x: x.value_counts())\n",
        "# attack_class_freq_test = data_test[['attack_class']].apply(lambda x: x.value_counts())\n",
        "# attack_class_freq_train['frequency_percent_train'] = round((100 * attack_class_freq_train / attack_class_freq_train.sum()),2)\n",
        "# attack_class_freq_test['frequency_percent_test'] = round((100 * attack_class_freq_test / attack_class_freq_test.sum()),2)\n",
        "\n",
        "# attack_class_dist = pd.concat([attack_class_freq_train,attack_class_freq_test], axis=1) \n",
        "# attack_class_dist\n",
        "# from sklearn.preprocessing import StandardScaler\n",
        "# scaler = StandardScaler()\n",
        "\n",
        "# # extract numerical attributes and scale it to have zero mean and unit variance  \n",
        "# cols = data_train.select_dtypes(include=['float64','int64']).columns\n",
        "# sc_train = scaler.fit_transform(data_train.select_dtypes(include=['float64','int64']))\n",
        "# sc_test = scaler.fit_transform(data_test.select_dtypes(include=['float64','int64']))\n",
        "\n",
        "# # turn the result back to a dataframe\n",
        "# sc_traindf = pd.DataFrame(sc_train, columns = cols)\n",
        "# sc_testdf = pd.DataFrame(sc_test, columns = cols)\n",
        "# #Encoding of Categorical Attributes\n",
        "# from sklearn.preprocessing import LabelEncoder\n",
        "# encoder = LabelEncoder()\n",
        "\n",
        "# # extract categorical attributes from both training and test sets \n",
        "# cattrain = data_train.select_dtypes(include=['object']).copy()\n",
        "# cattest = data_test.select_dtypes(include=['object']).copy()\n",
        "\n",
        "# # encode the categorical attributes\n",
        "# traincat = cattrain.apply(encoder.fit_transform)\n",
        "# testcat = cattest.apply(encoder.fit_transform)\n",
        "\n",
        "# # separate target column from encoded data \n",
        "# enctrain = traincat.drop(['attack_class'], axis=1)\n",
        "# enctest = testcat.drop(['attack_class'], axis=1)\n",
        "\n",
        "# cat_Ytrain = traincat[['attack_class']].copy()\n",
        "# cat_Ytest = testcat[['attack_class']].copy()\n",
        "# from imblearn.over_sampling import RandomOverSampler \n",
        "# from collections import Counter\n",
        "\n",
        "# # define columns and extract encoded train set for sampling \n",
        "# sc_traindf = data_train.select_dtypes(include=['float64','int64'])\n",
        "# refclasscol = pd.concat([sc_traindf, enctrain], axis=1).columns\n",
        "# refclass = np.concatenate((sc_train, enctrain.values), axis=1)\n",
        "# X = refclass\n",
        "\n",
        "# # reshape target column to 1D array shape  \n",
        "# c, r = cat_Ytest.values.shape\n",
        "# y_test = cat_Ytest.values.reshape(c,)\n",
        "\n",
        "# c, r = cat_Ytrain.values.shape\n",
        "# y = cat_Ytrain.values.reshape(c,)\n",
        "\n",
        "# # apply the random over-sampling\n",
        "# ros = RandomOverSampler(random_state=42)\n",
        "# X_res, y_res = ros.fit_sample(X, y)\n",
        "# print('Original dataset shape {}'.format(Counter(y)))\n",
        "# print('Resampled dataset shape {}'.format(Counter(y_res)))\n",
        "# from sklearn.ensemble import RandomForestClassifier\n",
        "# rfc = RandomForestClassifier();\n",
        "\n",
        "# # fit random forest classifier on the training set\n",
        "# rfc.fit(X_res, y_res);\n",
        "# # extract important features\n",
        "# score = np.round(rfc.feature_importances_,3)\n",
        "# importances = pd.DataFrame({'feature':refclasscol,'importance':score})\n",
        "# importances = importances.sort_values('importance',ascending=False).set_index('feature')\n",
        "# # plot importances\n",
        "# plt.rcParams['figure.figsize'] = (11, 4)\n",
        "# importances.plot.bar();\n",
        "# from sklearn.feature_selection import RFE\n",
        "# import itertools\n",
        "# rfc = RandomForestClassifier()\n",
        "\n",
        "# # create the RFE model and select 10 attributes\n",
        "# rfe = RFE(rfc, n_features_to_select=10)\n",
        "# rfe = rfe.fit(X_res, y_res)\n",
        "\n",
        "# # summarize the selection of the attributes\n",
        "# feature_map = [(i, v) for i, v in itertools.zip_longest(rfe.get_support(), refclasscol)]\n",
        "# selected_features = [v for i, v in feature_map if i==True]\n",
        "\n",
        "\n",
        "\n",
        "\n",
        "# # define columns to new dataframe\n",
        "# newcol = list(refclasscol)\n",
        "# newcol.append('attack_class')\n",
        "\n",
        "# # add a dimension to target\n",
        "# new_y_res = y_res[:, np.newaxis]\n",
        "\n",
        "# # create a dataframe from sampled data\n",
        "# res_arr = np.concatenate((X_res, new_y_res), axis=1)\n",
        "# res_df = pd.DataFrame(res_arr, columns = newcol) \n",
        "\n",
        "# # create test dataframe\n",
        "# reftest = pd.concat([sc_testdf, testcat], axis=1)\n",
        "# reftest['attack_class'] = reftest['attack_class'].astype(np.float64)\n",
        "# reftest['protocol_type'] = reftest['protocol_type'].astype(np.float64)\n",
        "# reftest['flag'] = reftest['flag'].astype(np.float64)\n",
        "# reftest['service'] = reftest['service'].astype(np.float64)\n",
        "\n",
        "# res_df.shape\n",
        "# reftest.shape\n"
      ]
    },
    {
      "cell_type": "code",
      "execution_count": null,
      "metadata": {
        "colab": {},
        "colab_type": "code",
        "id": "SeRShi0G3hZc"
      },
      "outputs": [],
      "source": [
        "#usual\n",
        "selected_features = ['src_bytes',\n",
        " 'dst_bytes',\n",
        " 'logged_in',\n",
        " 'count',\n",
        " 'dst_host_srv_count',\n",
        " 'dst_host_diff_srv_rate',\n",
        " 'dst_host_same_src_port_rate',\n",
        " 'dst_host_srv_serror_rate',\n",
        " 'attack']\n",
        "data_train = data_train[selected_features]\n",
        "data_test = data_test[selected_features]\n",
        "frames = [data_train,data_test]\n",
        "result = pd.concat(frames)"
      ]
    },
    {
      "cell_type": "code",
      "execution_count": null,
      "metadata": {
        "colab": {
          "base_uri": "https://localhost:8080/",
          "height": 70
        },
        "colab_type": "code",
        "id": "Da8wp2dm3hZf",
        "outputId": "ddb37451-81a8-4b50-c939-962cc1bf81ba"
      },
      "outputs": [
        {
          "name": "stdout",
          "output_type": "stream",
          "text": [
            "(22544, 9)\n",
            "(125973, 9)\n",
            "(148517, 9)\n"
          ]
        }
      ],
      "source": [
        "print(data_test.shape)\n",
        "print(data_train.shape)\n",
        "print(result.shape)"
      ]
    },
    {
      "cell_type": "code",
      "execution_count": null,
      "metadata": {
        "colab": {},
        "colab_type": "code",
        "id": "1xNGNpYx3hZl"
      },
      "outputs": [],
      "source": [
        "mapping = {'ipsweep': 'Probe','satan': 'Probe','nmap': 'Probe','portsweep': 'Probe','saint': 'Probe','mscan': 'Probe',\n",
        "        'teardrop': 'DoS','pod': 'DoS','land': 'DoS','back': 'DoS','neptune': 'DoS','smurf': 'DoS','mailbomb': 'DoS',\n",
        "        'udpstorm': 'DoS','apache2': 'DoS','processtable': 'DoS',\n",
        "        'perl': 'U2R','loadmodule': 'U2R','rootkit': 'U2R','buffer_overflow': 'U2R','xterm': 'U2R','ps': 'U2R',\n",
        "        'sqlattack': 'U2R','httptunnel': 'U2R',\n",
        "        'ftp_write': 'R2L','phf': 'R2L','guess_passwd': 'R2L','warezmaster': 'R2L','warezclient': 'R2L','imap': 'R2L',\n",
        "        'spy': 'R2L','multihop': 'R2L','named': 'R2L','snmpguess': 'R2L','worm': 'R2L','snmpgetattack': 'R2L',\n",
        "        'xsnoop': 'R2L','xlock': 'R2L','sendmail': 'R2L',\n",
        "        'normal': 'Normal'\n",
        "        }"
      ]
    },
    {
      "cell_type": "code",
      "execution_count": null,
      "metadata": {
        "colab": {},
        "colab_type": "code",
        "id": "j_bAWUDJ3hZt"
      },
      "outputs": [],
      "source": [
        "# # 'num_outbound_cmds' field has all 0 values. Hence, it will be removed from both train and test dataset since it is a redundant field.\n",
        "# data_train['attack_class'] = data_train['attack'].apply(lambda v: mapping[v])\n",
        "# data_test['attack_class'] = data_test['attack'].apply(lambda v: mapping[v])\n",
        "result['attack_class'] = result['attack'].apply(lambda v: mapping[v])"
      ]
    },
    {
      "cell_type": "code",
      "execution_count": null,
      "metadata": {
        "colab": {
          "base_uri": "https://localhost:8080/",
          "height": 35
        },
        "colab_type": "code",
        "id": "u8K2PwV13hZw",
        "outputId": "f837213b-52d3-4de8-d0ec-d4f29a22bff2"
      },
      "outputs": [
        {
          "name": "stdout",
          "output_type": "stream",
          "text": [
            "(148517, 10)\n"
          ]
        }
      ],
      "source": [
        "print(result.shape)"
      ]
    },
    {
      "cell_type": "code",
      "execution_count": null,
      "metadata": {
        "colab": {
          "base_uri": "https://localhost:8080/",
          "height": 35
        },
        "colab_type": "code",
        "id": "gnT-PCqL3hZz",
        "outputId": "3b95ce33-d2e7-426a-feff-7543c7b12918"
      },
      "outputs": [
        {
          "name": "stdout",
          "output_type": "stream",
          "text": [
            "(148517, 9)\n"
          ]
        }
      ],
      "source": [
        "del result['attack']\n",
        "print(result.shape)"
      ]
    },
    {
      "cell_type": "code",
      "execution_count": null,
      "metadata": {
        "colab": {},
        "colab_type": "code",
        "id": "uAPxgv733hZ5"
      },
      "outputs": [],
      "source": []
    },
    {
      "cell_type": "code",
      "execution_count": null,
      "metadata": {
        "colab": {},
        "colab_type": "code",
        "id": "wexKoS1_3hZ9"
      },
      "outputs": [],
      "source": [
        "# result['service'] = pd.Categorical(result['service'])\n",
        "# dfDummies = pd.get_dummies(result['service'], prefix = 'category')\n"
      ]
    },
    {
      "cell_type": "code",
      "execution_count": null,
      "metadata": {
        "colab": {},
        "colab_type": "code",
        "id": "Zq_f2y3z3haA"
      },
      "outputs": [],
      "source": [
        "# del result['service']\n"
      ]
    },
    {
      "cell_type": "code",
      "execution_count": null,
      "metadata": {
        "colab": {
          "base_uri": "https://localhost:8080/",
          "height": 34
        },
        "colab_type": "code",
        "id": "SQkcpnkb3haD",
        "outputId": "345d0a41-fdb8-4075-dcb9-b5db9c476a98"
      },
      "outputs": [
        {
          "name": "stdout",
          "output_type": "stream",
          "text": [
            "(148517, 9)\n"
          ]
        }
      ],
      "source": [
        "print(result.shape)\n"
      ]
    },
    {
      "cell_type": "code",
      "execution_count": null,
      "metadata": {
        "colab": {
          "base_uri": "https://localhost:8080/",
          "height": 135
        },
        "colab_type": "code",
        "id": "kKb0sT4v3haJ",
        "outputId": "af491f19-1b60-4ff6-866e-80f643e64332"
      },
      "outputs": [
        {
          "data": {
            "text/html": [
              "<div>\n",
              "<style scoped>\n",
              "    .dataframe tbody tr th:only-of-type {\n",
              "        vertical-align: middle;\n",
              "    }\n",
              "\n",
              "    .dataframe tbody tr th {\n",
              "        vertical-align: top;\n",
              "    }\n",
              "\n",
              "    .dataframe thead th {\n",
              "        text-align: right;\n",
              "    }\n",
              "</style>\n",
              "<table border=\"1\" class=\"dataframe\">\n",
              "  <thead>\n",
              "    <tr style=\"text-align: right;\">\n",
              "      <th></th>\n",
              "      <th>src_bytes</th>\n",
              "      <th>dst_bytes</th>\n",
              "      <th>logged_in</th>\n",
              "      <th>count</th>\n",
              "      <th>dst_host_srv_count</th>\n",
              "      <th>dst_host_diff_srv_rate</th>\n",
              "      <th>dst_host_same_src_port_rate</th>\n",
              "      <th>dst_host_srv_serror_rate</th>\n",
              "      <th>attack_class</th>\n",
              "    </tr>\n",
              "  </thead>\n",
              "  <tbody>\n",
              "    <tr>\n",
              "      <th>0</th>\n",
              "      <td>491</td>\n",
              "      <td>0</td>\n",
              "      <td>0</td>\n",
              "      <td>2</td>\n",
              "      <td>25</td>\n",
              "      <td>0.03</td>\n",
              "      <td>0.17</td>\n",
              "      <td>0.0</td>\n",
              "      <td>Normal</td>\n",
              "    </tr>\n",
              "    <tr>\n",
              "      <th>1</th>\n",
              "      <td>146</td>\n",
              "      <td>0</td>\n",
              "      <td>0</td>\n",
              "      <td>13</td>\n",
              "      <td>1</td>\n",
              "      <td>0.60</td>\n",
              "      <td>0.88</td>\n",
              "      <td>0.0</td>\n",
              "      <td>Normal</td>\n",
              "    </tr>\n",
              "    <tr>\n",
              "      <th>2</th>\n",
              "      <td>0</td>\n",
              "      <td>0</td>\n",
              "      <td>0</td>\n",
              "      <td>123</td>\n",
              "      <td>26</td>\n",
              "      <td>0.05</td>\n",
              "      <td>0.00</td>\n",
              "      <td>1.0</td>\n",
              "      <td>DoS</td>\n",
              "    </tr>\n",
              "  </tbody>\n",
              "</table>\n",
              "</div>"
            ],
            "text/plain": [
              "   src_bytes  dst_bytes  ...  dst_host_srv_serror_rate  attack_class\n",
              "0        491          0  ...                       0.0        Normal\n",
              "1        146          0  ...                       0.0        Normal\n",
              "2          0          0  ...                       1.0           DoS\n",
              "\n",
              "[3 rows x 9 columns]"
            ]
          },
          "execution_count": 173,
          "metadata": {
            "tags": []
          },
          "output_type": "execute_result"
        }
      ],
      "source": [
        "result.head(3)"
      ]
    },
    {
      "cell_type": "code",
      "execution_count": null,
      "metadata": {
        "colab": {},
        "colab_type": "code",
        "id": "G6qrvV0u3haN"
      },
      "outputs": [],
      "source": [
        "\n",
        "X= result.iloc[:,:8]\n",
        "Y= result.iloc[:,-1]"
      ]
    },
    {
      "cell_type": "code",
      "execution_count": null,
      "metadata": {
        "colab": {
          "base_uri": "https://localhost:8080/",
          "height": 52
        },
        "colab_type": "code",
        "id": "Cw2nVWNb3haQ",
        "outputId": "ea87f60d-cbb5-4feb-c33e-daa0aa899b92"
      },
      "outputs": [
        {
          "name": "stdout",
          "output_type": "stream",
          "text": [
            "(148517, 8)\n",
            "(148517,)\n"
          ]
        }
      ],
      "source": [
        "print(X.shape)\n",
        "print(Y.shape)"
      ]
    },
    {
      "cell_type": "code",
      "execution_count": null,
      "metadata": {
        "colab": {},
        "colab_type": "code",
        "id": "UiGtgj3-3haW"
      },
      "outputs": [],
      "source": [
        "X= pd.concat([X, dfDummies], axis=1)\n"
      ]
    },
    {
      "cell_type": "code",
      "execution_count": null,
      "metadata": {
        "colab": {
          "base_uri": "https://localhost:8080/",
          "height": 35
        },
        "colab_type": "code",
        "id": "fQzmbQB_3haf",
        "outputId": "260e1393-e256-4d30-8c0b-fcaca54f7fbc"
      },
      "outputs": [
        {
          "name": "stdout",
          "output_type": "stream",
          "text": [
            "(148517, 78)\n"
          ]
        }
      ],
      "source": [
        "print(X.shape)"
      ]
    },
    {
      "cell_type": "code",
      "execution_count": null,
      "metadata": {
        "colab": {},
        "colab_type": "code",
        "id": "GLJP1nc03hal"
      },
      "outputs": [],
      "source": [
        "X  = X.values\n",
        "Y  = Y.values\n"
      ]
    },
    {
      "cell_type": "code",
      "execution_count": null,
      "metadata": {
        "colab": {
          "base_uri": "https://localhost:8080/",
          "height": 88
        },
        "colab_type": "code",
        "id": "MPjpqXPm3hap",
        "outputId": "5602b6a7-d4ec-49a0-a529-81c00eddfd87"
      },
      "outputs": [
        {
          "name": "stdout",
          "output_type": "stream",
          "text": [
            "(89110, 78)\n",
            "(89110,)\n",
            "(59407, 78)\n",
            "(59407,)\n"
          ]
        }
      ],
      "source": [
        "from sklearn.model_selection import train_test_split\n",
        "X_train, X_test, Y_train, Y_test = train_test_split(X, Y, test_size=0.4, random_state=1)\n",
        "print(X_train.shape)\n",
        "print(Y_train.shape)\n",
        "print(X_test.shape)\n",
        "print(Y_test.shape)"
      ]
    },
    {
      "cell_type": "code",
      "execution_count": null,
      "metadata": {
        "colab": {},
        "colab_type": "code",
        "id": "Mha3mJZs3hav"
      },
      "outputs": [],
      "source": [
        "from sklearn.preprocessing import LabelEncoder\n",
        "from keras.utils import np_utils\n",
        "encoder = LabelEncoder()\n",
        "encoder.fit(Y_train)\n",
        "encoded_Y = encoder.transform(Y_train)\n",
        "# convert integers to dummy variables (i.e. one hot encoded)\n",
        "Y_train = np_utils.to_categorical(encoded_Y)"
      ]
    },
    {
      "cell_type": "code",
      "execution_count": null,
      "metadata": {
        "colab": {},
        "colab_type": "code",
        "id": "eLBLkW483ha0"
      },
      "outputs": [],
      "source": [
        "from sklearn.preprocessing import LabelEncoder\n",
        "from keras.utils import np_utils\n",
        "encoder = LabelEncoder()\n",
        "encoder.fit(Y_test)\n",
        "encoded_Y = encoder.transform(Y_test)\n",
        "# convert integers to dummy variables (i.e. one hot encoded)\n",
        "Y_test = np_utils.to_categorical(encoded_Y)"
      ]
    },
    {
      "cell_type": "code",
      "execution_count": null,
      "metadata": {
        "colab": {
          "base_uri": "https://localhost:8080/",
          "height": 88
        },
        "colab_type": "code",
        "id": "W93a2Ktd3ha3",
        "outputId": "bed7ca8b-43b3-4a96-a7c1-96bc7c7b45eb"
      },
      "outputs": [
        {
          "name": "stdout",
          "output_type": "stream",
          "text": [
            "(89110, 78)\n",
            "(59407, 78)\n",
            "(89110, 5)\n",
            "(59407, 5)\n"
          ]
        }
      ],
      "source": [
        "print(X_train.shape)\n",
        "print(X_test.shape)\n",
        "print(Y_train.shape)\n",
        "print(Y_test.shape)\n",
        "\n"
      ]
    },
    {
      "cell_type": "code",
      "execution_count": null,
      "metadata": {
        "colab": {},
        "colab_type": "code",
        "id": "dkRIMY0T3ha8"
      },
      "outputs": [],
      "source": [
        "from keras.models import Sequential\n",
        "from keras.layers import Activation, Dropout, Dense\n",
        "\n",
        "model = Sequential()\n",
        "model.add(Dense(128, input_dim=78, activation='relu'))\n",
        "model.add(Dense(5, activation='softmax'))\n"
      ]
    },
    {
      "cell_type": "code",
      "execution_count": null,
      "metadata": {
        "colab": {},
        "colab_type": "code",
        "id": "xn2oZg4a5CB1"
      },
      "outputs": [],
      "source": []
    },
    {
      "cell_type": "code",
      "execution_count": null,
      "metadata": {
        "colab": {
          "base_uri": "https://localhost:8080/",
          "height": 230
        },
        "colab_type": "code",
        "id": "W2kHTW-S3ha_",
        "outputId": "90ec6383-4a6d-416e-81cf-da19185faa9f"
      },
      "outputs": [
        {
          "name": "stdout",
          "output_type": "stream",
          "text": [
            "Model: \"sequential_4\"\n",
            "_________________________________________________________________\n",
            "Layer (type)                 Output Shape              Param #   \n",
            "=================================================================\n",
            "dense_7 (Dense)              (None, 128)               10112     \n",
            "_________________________________________________________________\n",
            "dense_8 (Dense)              (None, 5)                 645       \n",
            "=================================================================\n",
            "Total params: 10,757\n",
            "Trainable params: 10,757\n",
            "Non-trainable params: 0\n",
            "_________________________________________________________________\n"
          ]
        }
      ],
      "source": [
        "# Compile model\n",
        "model.compile(loss=tf.keras.losses.CategoricalHinge(), optimizer='adam', metrics=['accuracy'])\n",
        "model.summary()\n"
      ]
    },
    {
      "cell_type": "code",
      "execution_count": null,
      "metadata": {
        "colab": {
          "base_uri": "https://localhost:8080/",
          "height": 1000
        },
        "colab_type": "code",
        "id": "Q3EThidC3hbC",
        "outputId": "e718ecc7-fa46-4ace-e677-eb2edcb5d15c"
      },
      "outputs": [
        {
          "name": "stdout",
          "output_type": "stream",
          "text": [
            "Train on 89110 samples, validate on 59407 samples\n",
            "Epoch 1/50\n",
            "89110/89110 [==============================] - 17s 188us/step - loss: 1.0316 - acc: 0.9105 - val_loss: 0.7939 - val_acc: 0.9357\n",
            "Epoch 2/50\n",
            "89110/89110 [==============================] - 17s 190us/step - loss: 0.7590 - acc: 0.9369 - val_loss: 0.7608 - val_acc: 0.9412\n",
            "Epoch 3/50\n",
            "89110/89110 [==============================] - 17s 187us/step - loss: 0.7514 - acc: 0.9375 - val_loss: 0.6491 - val_acc: 0.9481\n",
            "Epoch 4/50\n",
            "89110/89110 [==============================] - 17s 186us/step - loss: 0.7953 - acc: 0.9351 - val_loss: 0.9866 - val_acc: 0.9270\n",
            "Epoch 5/50\n",
            "89110/89110 [==============================] - 17s 186us/step - loss: 0.6540 - acc: 0.9481 - val_loss: 0.7472 - val_acc: 0.9207\n",
            "Epoch 6/50\n",
            "89110/89110 [==============================] - 16s 184us/step - loss: 0.6278 - acc: 0.9495 - val_loss: 0.5952 - val_acc: 0.9523\n",
            "Epoch 7/50\n",
            "89110/89110 [==============================] - 17s 186us/step - loss: 0.6303 - acc: 0.9494 - val_loss: 0.6479 - val_acc: 0.9526\n",
            "Epoch 8/50\n",
            "89110/89110 [==============================] - 16s 184us/step - loss: 0.6074 - acc: 0.9518 - val_loss: 0.6379 - val_acc: 0.9478\n",
            "Epoch 9/50\n",
            "89110/89110 [==============================] - 17s 186us/step - loss: 0.5878 - acc: 0.9528 - val_loss: 0.5485 - val_acc: 0.9558\n",
            "Epoch 10/50\n",
            "89110/89110 [==============================] - 17s 188us/step - loss: 0.5586 - acc: 0.9540 - val_loss: 0.7321 - val_acc: 0.9049\n",
            "Epoch 11/50\n",
            "89110/89110 [==============================] - 16s 183us/step - loss: 0.7901 - acc: 0.9408 - val_loss: 0.8581 - val_acc: 0.9381\n",
            "Epoch 12/50\n",
            "89110/89110 [==============================] - 17s 186us/step - loss: 0.6239 - acc: 0.9509 - val_loss: 0.5409 - val_acc: 0.9547\n",
            "Epoch 13/50\n",
            "89110/89110 [==============================] - 16s 183us/step - loss: 0.5597 - acc: 0.9561 - val_loss: 0.5104 - val_acc: 0.9601\n",
            "Epoch 14/50\n",
            "89110/89110 [==============================] - 16s 183us/step - loss: 0.5306 - acc: 0.9583 - val_loss: 0.5266 - val_acc: 0.9611\n",
            "Epoch 15/50\n",
            "89110/89110 [==============================] - 16s 183us/step - loss: 0.5620 - acc: 0.9568 - val_loss: 0.5460 - val_acc: 0.9477\n",
            "Epoch 16/50\n",
            "89110/89110 [==============================] - 16s 182us/step - loss: 0.5262 - acc: 0.9590 - val_loss: 0.5083 - val_acc: 0.9600\n",
            "Epoch 17/50\n",
            "89110/89110 [==============================] - 16s 183us/step - loss: 0.5066 - acc: 0.9609 - val_loss: 0.4942 - val_acc: 0.9628\n",
            "Epoch 18/50\n",
            "89110/89110 [==============================] - 16s 184us/step - loss: 0.5349 - acc: 0.9593 - val_loss: 0.5023 - val_acc: 0.9608\n",
            "Epoch 19/50\n",
            "89110/89110 [==============================] - 16s 185us/step - loss: 0.5166 - acc: 0.9602 - val_loss: 0.4914 - val_acc: 0.9624\n",
            "Epoch 20/50\n",
            "89110/89110 [==============================] - 16s 185us/step - loss: 0.5264 - acc: 0.9594 - val_loss: 0.4903 - val_acc: 0.9641\n",
            "Epoch 21/50\n",
            "89110/89110 [==============================] - 18s 206us/step - loss: 0.5204 - acc: 0.9603 - val_loss: 0.5312 - val_acc: 0.9594\n",
            "Epoch 22/50\n",
            "89110/89110 [==============================] - 17s 188us/step - loss: 0.5142 - acc: 0.9611 - val_loss: 0.4960 - val_acc: 0.9624\n",
            "Epoch 23/50\n",
            "89110/89110 [==============================] - 17s 186us/step - loss: 0.4983 - acc: 0.9621 - val_loss: 0.4870 - val_acc: 0.9639\n",
            "Epoch 24/50\n",
            "89110/89110 [==============================] - 16s 185us/step - loss: 0.5115 - acc: 0.9612 - val_loss: 0.4934 - val_acc: 0.9623\n",
            "Epoch 25/50\n",
            "89110/89110 [==============================] - 16s 185us/step - loss: 0.5093 - acc: 0.9613 - val_loss: 0.4892 - val_acc: 0.9642\n",
            "Epoch 26/50\n",
            "89110/89110 [==============================] - 17s 187us/step - loss: 0.5024 - acc: 0.9618 - val_loss: 0.4906 - val_acc: 0.9621\n",
            "Epoch 27/50\n",
            "89110/89110 [==============================] - 17s 186us/step - loss: 0.5078 - acc: 0.9617 - val_loss: 0.7031 - val_acc: 0.9493\n",
            "Epoch 28/50\n",
            "89110/89110 [==============================] - 17s 187us/step - loss: 0.5348 - acc: 0.9599 - val_loss: 0.4996 - val_acc: 0.9614\n",
            "Epoch 29/50\n",
            "89110/89110 [==============================] - 17s 186us/step - loss: 0.5036 - acc: 0.9618 - val_loss: 0.5345 - val_acc: 0.9579\n",
            "Epoch 30/50\n",
            "89110/89110 [==============================] - 17s 187us/step - loss: 0.4977 - acc: 0.9626 - val_loss: 0.4874 - val_acc: 0.9641\n",
            "Epoch 31/50\n",
            "89110/89110 [==============================] - 16s 184us/step - loss: 0.4895 - acc: 0.9627 - val_loss: 0.5087 - val_acc: 0.9566\n",
            "Epoch 32/50\n",
            "89110/89110 [==============================] - 16s 184us/step - loss: 0.4937 - acc: 0.9633 - val_loss: 0.4895 - val_acc: 0.9639\n",
            "Epoch 33/50\n",
            "89110/89110 [==============================] - 16s 184us/step - loss: 0.4931 - acc: 0.9632 - val_loss: 0.4868 - val_acc: 0.9646\n",
            "Epoch 34/50\n",
            "89110/89110 [==============================] - 17s 187us/step - loss: 0.5066 - acc: 0.9624 - val_loss: 0.5019 - val_acc: 0.9639\n",
            "Epoch 35/50\n",
            "89110/89110 [==============================] - 16s 184us/step - loss: 0.5058 - acc: 0.9625 - val_loss: 0.5132 - val_acc: 0.9619\n",
            "Epoch 36/50\n",
            "89110/89110 [==============================] - 16s 183us/step - loss: 0.5028 - acc: 0.9626 - val_loss: 0.4900 - val_acc: 0.9640\n",
            "Epoch 37/50\n",
            "89110/89110 [==============================] - 16s 183us/step - loss: 0.4912 - acc: 0.9635 - val_loss: 0.4674 - val_acc: 0.9626\n",
            "Epoch 38/50\n",
            "89110/89110 [==============================] - 16s 185us/step - loss: 0.5039 - acc: 0.9621 - val_loss: 0.4928 - val_acc: 0.9614\n",
            "Epoch 39/50\n",
            "89110/89110 [==============================] - 16s 183us/step - loss: 0.4861 - acc: 0.9632 - val_loss: 0.4417 - val_acc: 0.9644\n",
            "Epoch 40/50\n",
            "89110/89110 [==============================] - 16s 184us/step - loss: 0.4712 - acc: 0.9640 - val_loss: 0.4943 - val_acc: 0.9616\n",
            "Epoch 41/50\n",
            "89110/89110 [==============================] - 16s 185us/step - loss: 0.4632 - acc: 0.9638 - val_loss: 0.5259 - val_acc: 0.9575\n",
            "Epoch 42/50\n",
            "89110/89110 [==============================] - 16s 184us/step - loss: 0.4552 - acc: 0.9647 - val_loss: 0.4870 - val_acc: 0.9651\n",
            "Epoch 43/50\n",
            "89110/89110 [==============================] - 16s 183us/step - loss: 0.4949 - acc: 0.9633 - val_loss: 0.4841 - val_acc: 0.9642\n",
            "Epoch 44/50\n",
            "89110/89110 [==============================] - 17s 186us/step - loss: 0.4337 - acc: 0.9658 - val_loss: 0.3542 - val_acc: 0.9695\n",
            "Epoch 45/50\n",
            "89110/89110 [==============================] - 19s 209us/step - loss: 0.4027 - acc: 0.9666 - val_loss: 0.3865 - val_acc: 0.9700\n",
            "Epoch 46/50\n",
            "89110/89110 [==============================] - 20s 226us/step - loss: 0.3824 - acc: 0.9688 - val_loss: 0.3642 - val_acc: 0.9687\n",
            "Epoch 47/50\n",
            "89110/89110 [==============================] - 17s 190us/step - loss: 0.3777 - acc: 0.9691 - val_loss: 0.3871 - val_acc: 0.9685\n",
            "Epoch 48/50\n",
            "89110/89110 [==============================] - 16s 184us/step - loss: 0.3925 - acc: 0.9679 - val_loss: 0.3593 - val_acc: 0.9716\n",
            "Epoch 49/50\n",
            "89110/89110 [==============================] - 16s 184us/step - loss: 0.3962 - acc: 0.9678 - val_loss: 0.3794 - val_acc: 0.9684\n",
            "Epoch 50/50\n",
            "89110/89110 [==============================] - 17s 189us/step - loss: 0.3856 - acc: 0.9684 - val_loss: 0.3656 - val_acc: 0.9651\n"
          ]
        }
      ],
      "source": [
        "from keras.callbacks import TensorBoard\n",
        "%reload_ext tensorboard\n",
        "import datetime\n",
        "#the number of samples processed for each epoch is batch_size * steps_per_epochs\n",
        "log_dir='logs/fit/' + datetime.datetime.now().strftime('%Y%m%d-%H%M%S')\n",
        "tensorboard_callback = tf.keras.callbacks.TensorBoard(log_dir=log_dir, histogram_freq=1)\n",
        "history = model.fit(X_train, Y_train,batch_size=32,epochs=50,verbose=1,validation_data=(X_test, Y_test), callbacks=[tensorboard_callback])\n"
      ]
    },
    {
      "cell_type": "markdown",
      "metadata": {
        "colab_type": "text",
        "id": "iUUt60w-3hbG"
      },
      "source": [
        "# Evaluating the Model"
      ]
    },
    {
      "cell_type": "code",
      "execution_count": null,
      "metadata": {
        "colab": {
          "base_uri": "https://localhost:8080/",
          "height": 106
        },
        "colab_type": "code",
        "id": "1kuBeb8hIc8U",
        "outputId": "f0503552-38e7-4879-f418-78a883c2ebed"
      },
      "outputs": [
        {
          "name": "stdout",
          "output_type": "stream",
          "text": [
            "[1. 0. 0. 0. 0.]\n",
            "[0. 0. 0. 1. 0.]\n",
            "[0. 1. 0. 0. 0.]\n",
            "[1. 0. 0. 0. 0.]\n",
            "[0. 0. 1. 0. 0.]\n"
          ]
        }
      ],
      "source": [
        "print(Y_train[4])#DOS\n",
        "print(Y_train[3])#R2U\n",
        "print(Y_train[1])#Normal\n",
        "print(Y_train[2323])\n",
        "print(Y_train[836])#Probe\n",
        "\n",
        "\n",
        "np.savetxt(r'testing.txt', X_train, fmt='%d')\n"
      ]
    },
    {
      "cell_type": "code",
      "execution_count": null,
      "metadata": {
        "colab": {
          "base_uri": "https://localhost:8080/",
          "height": 644
        },
        "colab_type": "code",
        "id": "RehpeMH-3hbI",
        "outputId": "73487de5-d6d3-4082-9188-e2cb1012bc48"
      },
      "outputs": [
        {
          "name": "stdout",
          "output_type": "stream",
          "text": [
            "Train loss: 0.36905616134081837\n",
            "Train accuracy: 0.9651329817146902\n",
            "Test loss: 0.3656426795672604\n",
            "Test accuracy: 0.9650714562256973\n"
          ]
        },
        {
          "data": {
            "image/png": "[encoded data removed]",
            "text/plain": [
              "<Figure size 432x288 with 1 Axes>"
            ]
          },
          "metadata": {
            "tags": []
          },
          "output_type": "display_data"
        },
        {
          "data": {
            "image/png": "[encoded data removed]",
            "text/plain": [
              "<Figure size 432x288 with 1 Axes>"
            ]
          },
          "metadata": {
            "tags": []
          },
          "output_type": "display_data"
        }
      ],
      "source": [
        "score = model.evaluate(X_train, Y_train, verbose=0)\n",
        "trainerr = model.evaluate(X_test, Y_test, verbose=0)\n",
        "print('Train loss:', score[0])\n",
        "print('Train accuracy:', score[1])\n",
        "print('Test loss:',trainerr[0])\n",
        "print('Test accuracy:',trainerr[1])\n",
        "\n",
        "\n",
        "\n",
        "import matplotlib.pyplot as plt\n",
        "plt.plot(history.history['acc'])\n",
        "plt.plot(history.history['val_acc'])\n",
        "plt.title('Model accuracy')\n",
        "plt.ylabel('Accuracy')\n",
        "plt.xlabel('Epoch') \n",
        "plt.legend(['Train', 'Test'], loc='upper left')\n",
        "plt.show()\n",
        "\n",
        "\n",
        "plt.plot(history.history['loss'])\n",
        "plt.plot(history.history['val_loss'])\n",
        "plt.title('Model loss')\n",
        "plt.ylabel('losss')\n",
        "plt.xlabel('Epoch') \n",
        "plt.legend(['Train', 'Test'], loc='upper right')\n",
        "plt.show()\n",
        "\n"
      ]
    },
    {
      "cell_type": "code",
      "execution_count": null,
      "metadata": {
        "colab": {},
        "colab_type": "code",
        "id": "VIgPbiJs3hbM"
      },
      "outputs": [],
      "source": [
        "model.save(\"model1.h5\")"
      ]
    },
    {
      "cell_type": "markdown",
      "metadata": {
        "colab_type": "text",
        "id": "xSZvPoXA3hbX"
      },
      "source": [
        "# Predicting on new Data"
      ]
    },
    {
      "cell_type": "code",
      "execution_count": null,
      "metadata": {
        "colab": {
          "base_uri": "https://localhost:8080/",
          "height": 35
        },
        "colab_type": "code",
        "id": "U2wka45H3hbY",
        "outputId": "c059a921-5991-4125-cb06-4182f94d13f2"
      },
      "outputs": [
        {
          "name": "stdout",
          "output_type": "stream",
          "text": [
            "PROBE ATTACK(Probe) DETECTED\n"
          ]
        }
      ],
      "source": [
        "data = X_train[836].reshape(1,78)\n",
        "\n",
        "pred1  = model.predict(data)\n",
        "y_classes = pred1.argmax(axis=-1)\n",
        "# print(y_classes)\n",
        "if(y_classes==0):\n",
        "    print(\"DOS ATTACK DETECTED\")\n",
        "elif(y_classes==1):\n",
        "    print(\"NORMAL PACKET DATA\")\n",
        "elif(y_classes==2):\n",
        "    print(\"PROBE ATTACK(Probe) DETECTED\")\n",
        "elif(y_classes==3):\n",
        "    print(\"REMOTE TO USER ATTACK(R2U) DETECTED\")\n"
      ]
    },
    {
      "cell_type": "code",
      "execution_count": null,
      "metadata": {
        "colab": {},
        "colab_type": "code",
        "id": "tqsX4kJA3hbg"
      },
      "outputs": [],
      "source": []
    }
  ],
  "metadata": {
    "accelerator": "GPU",
    "colab": {
      "collapsed_sections": [],
      "name": "ids_cyber.ipynb",
      "provenance": [],
      "toc_visible": true
    },
    "kernelspec": {
      "display_name": "Python 3.10.8 64-bit (microsoft store)",
      "language": "python",
      "name": "python3"
    },
    "language_info": {
      "codemirror_mode": {
        "name": "ipython",
        "version": 3
      },
      "file_extension": ".py",
      "mimetype": "text/x-python",
      "name": "python",
      "nbconvert_exporter": "python",
      "pygments_lexer": "ipython3",
      "version": "3.10.8"
    },
    "vscode": {
      "interpreter": {
        "hash": "2614430711c1ec1b5449099f0dd8dead4512c125ac12c66c5add0031e10e8451"
      }
    }
  },
  "nbformat": 4,
  "nbformat_minor": 0
}
