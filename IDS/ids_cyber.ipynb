{
  "nbformat": 4,
  "nbformat_minor": 0,
  "metadata": {
    "kernelspec": {
      "name": "python3",
      "display_name": "Python 3"
    },
    "language_info": {
      "codemirror_mode": {
        "name": "ipython",
        "version": 3
      },
      "file_extension": ".py",
      "mimetype": "text/x-python",
      "name": "python",
      "nbconvert_exporter": "python",
      "pygments_lexer": "ipython3",
      "version": "3.7.4"
    },
    "colab": {
      "name": "ids_cyber.ipynb",
      "provenance": [],
      "collapsed_sections": [],
      "toc_visible": true
    },
    "accelerator": "GPU"
  },
  "cells": [
    {
      "cell_type": "code",
      "metadata": {
        "id": "ABqyvKRw3hY8",
        "colab_type": "code",
        "outputId": "8c4cfc89-415e-4b31-f23a-e1c0a3abdab8",
        "colab": {
          "base_uri": "https://localhost:8080/",
          "height": 35
        }
      },
      "source": [
        "from google.colab import drive\n",
        "from google.colab import files\n",
        "\n",
        "\n",
        "drive.mount('/content/gdrive',force_remount=True)\n",
        "root_path = 'gdrive/My Drive/ids_data/'\n"
      ],
      "execution_count": 0,
      "outputs": [
        {
          "output_type": "stream",
          "text": [
            "Mounted at /content/gdrive\n"
          ],
          "name": "stdout"
        }
      ]
    },
    {
      "cell_type": "code",
      "metadata": {
        "id": "WGLINbJA3hYs",
        "colab_type": "code",
        "colab": {}
      },
      "source": [
        "%matplotlib inline\n",
        "import matplotlib\n",
        "import matplotlib.pyplot as plt\n",
        "import pandas as pd\n",
        "import numpy as np\n",
        "\n"
      ],
      "execution_count": 0,
      "outputs": []
    },
    {
      "cell_type": "code",
      "metadata": {
        "id": "HhO6H9Kb3hZE",
        "colab_type": "code",
        "colab": {}
      },
      "source": [
        "#start\n",
        "datacols = [\"duration\",\"protocol_type\",\"service\",\"flag\",\"src_bytes\",\n",
        "    \"dst_bytes\",\"land\",\"wrong_fragment\",\"urgent\",\"hot\",\"num_failed_logins\",\n",
        "    \"logged_in\",\"num_compromised\",\"root_shell\",\"su_attempted\",\"num_root\",\n",
        "    \"num_file_creations\",\"num_shells\",\"num_access_files\",\"num_outbound_cmds\",\n",
        "    \"is_host_login\",\"is_guest_login\",\"count\",\"srv_count\",\"serror_rate\",\n",
        "    \"srv_serror_rate\",\"rerror_rate\",\"srv_rerror_rate\",\"same_srv_rate\",\n",
        "    \"diff_srv_rate\",\"srv_diff_host_rate\",\"dst_host_count\",\"dst_host_srv_count\",\n",
        "    \"dst_host_same_srv_rate\",\"dst_host_diff_srv_rate\",\"dst_host_same_src_port_rate\",\n",
        "    \"dst_host_srv_diff_host_rate\",\"dst_host_serror_rate\",\"dst_host_srv_serror_rate\",\n",
        "    \"dst_host_rerror_rate\",\"dst_host_srv_rerror_rate\",\"attack\", \"last_flag\"]\n",
        "\n",
        "# Load NSL_KDD train dataset\n",
        "data_train = pd.read_table(\"/content/gdrive/My Drive/ids_data/KDDTrain.txt\", sep=\",\", names=datacols) # change path to where the dataset is located.\n",
        "data_train = data_train.iloc[:,:-1] # removes an unwanted extra field\n",
        "# Load NSL_KDD test dataset\n",
        "data_test = pd.read_table(\"/content/gdrive/My Drive/ids_data/KDDTest.txt\", sep=\",\", names=datacols)\n",
        "data_test = data_test.iloc[:,:-1]\n"
      ],
      "execution_count": 0,
      "outputs": []
    },
    {
      "cell_type": "code",
      "metadata": {
        "id": "M_qJUZRP3hZL",
        "colab_type": "code",
        "colab": {}
      },
      "source": [
        "# mapping = {'ipsweep': 'Probe','satan': 'Probe','nmap': 'Probe','portsweep': 'Probe','saint': 'Probe','mscan': 'Probe',\n",
        "#         'teardrop': 'DoS','pod': 'DoS','land': 'DoS','back': 'DoS','neptune': 'DoS','smurf': 'DoS','mailbomb': 'DoS',\n",
        "#         'udpstorm': 'DoS','apache2': 'DoS','processtable': 'DoS',\n",
        "#         'perl': 'U2R','loadmodule': 'U2R','rootkit': 'U2R','buffer_overflow': 'U2R','xterm': 'U2R','ps': 'U2R',\n",
        "#         'sqlattack': 'U2R','httptunnel': 'U2R',\n",
        "#         'ftp_write': 'R2L','phf': 'R2L','guess_passwd': 'R2L','warezmaster': 'R2L','warezclient': 'R2L','imap': 'R2L',\n",
        "#         'spy': 'R2L','multihop': 'R2L','named': 'R2L','snmpguess': 'R2L','worm': 'R2L','snmpgetattack': 'R2L',\n",
        "#         'xsnoop': 'R2L','xlock': 'R2L','sendmail': 'R2L',\n",
        "#         'normal': 'Normal'\n",
        "#         }"
      ],
      "execution_count": 0,
      "outputs": []
    },
    {
      "cell_type": "code",
      "metadata": {
        "id": "u89UzqKz3hZP",
        "colab_type": "code",
        "colab": {}
      },
      "source": [
        "# # 'num_outbound_cmds' field has all 0 values. Hence, it will be removed from both train and test dataset since it is a redundant field.\n",
        "# data_train['attack_class'] = data_train['attack'].apply(lambda v: mapping[v])\n",
        "# data_test['attack_class'] = data_test['attack'].apply(lambda v: mapping[v])"
      ],
      "execution_count": 0,
      "outputs": []
    },
    {
      "cell_type": "code",
      "metadata": {
        "id": "7LwKuvuq3hZS",
        "colab_type": "code",
        "outputId": "0bc59eb6-5a5b-48ab-9e47-e52abde72258",
        "colab": {}
      },
      "source": [
        "data_train.head(5)"
      ],
      "execution_count": 0,
      "outputs": [
        {
          "output_type": "execute_result",
          "data": {
            "text/html": [
              "<div>\n",
              "<style scoped>\n",
              "    .dataframe tbody tr th:only-of-type {\n",
              "        vertical-align: middle;\n",
              "    }\n",
              "\n",
              "    .dataframe tbody tr th {\n",
              "        vertical-align: top;\n",
              "    }\n",
              "\n",
              "    .dataframe thead th {\n",
              "        text-align: right;\n",
              "    }\n",
              "</style>\n",
              "<table border=\"1\" class=\"dataframe\">\n",
              "  <thead>\n",
              "    <tr style=\"text-align: right;\">\n",
              "      <th></th>\n",
              "      <th>src_bytes</th>\n",
              "      <th>dst_bytes</th>\n",
              "      <th>logged_in</th>\n",
              "      <th>count</th>\n",
              "      <th>dst_host_srv_count</th>\n",
              "      <th>dst_host_diff_srv_rate</th>\n",
              "      <th>dst_host_same_src_port_rate</th>\n",
              "      <th>dst_host_srv_serror_rate</th>\n",
              "      <th>service</th>\n",
              "      <th>attack</th>\n",
              "    </tr>\n",
              "  </thead>\n",
              "  <tbody>\n",
              "    <tr>\n",
              "      <td>0</td>\n",
              "      <td>491</td>\n",
              "      <td>0</td>\n",
              "      <td>0</td>\n",
              "      <td>2</td>\n",
              "      <td>25</td>\n",
              "      <td>0.03</td>\n",
              "      <td>0.17</td>\n",
              "      <td>0.00</td>\n",
              "      <td>ftp_data</td>\n",
              "      <td>normal</td>\n",
              "    </tr>\n",
              "    <tr>\n",
              "      <td>1</td>\n",
              "      <td>146</td>\n",
              "      <td>0</td>\n",
              "      <td>0</td>\n",
              "      <td>13</td>\n",
              "      <td>1</td>\n",
              "      <td>0.60</td>\n",
              "      <td>0.88</td>\n",
              "      <td>0.00</td>\n",
              "      <td>other</td>\n",
              "      <td>normal</td>\n",
              "    </tr>\n",
              "    <tr>\n",
              "      <td>2</td>\n",
              "      <td>0</td>\n",
              "      <td>0</td>\n",
              "      <td>0</td>\n",
              "      <td>123</td>\n",
              "      <td>26</td>\n",
              "      <td>0.05</td>\n",
              "      <td>0.00</td>\n",
              "      <td>1.00</td>\n",
              "      <td>private</td>\n",
              "      <td>neptune</td>\n",
              "    </tr>\n",
              "    <tr>\n",
              "      <td>3</td>\n",
              "      <td>232</td>\n",
              "      <td>8153</td>\n",
              "      <td>1</td>\n",
              "      <td>5</td>\n",
              "      <td>255</td>\n",
              "      <td>0.00</td>\n",
              "      <td>0.03</td>\n",
              "      <td>0.01</td>\n",
              "      <td>http</td>\n",
              "      <td>normal</td>\n",
              "    </tr>\n",
              "    <tr>\n",
              "      <td>4</td>\n",
              "      <td>199</td>\n",
              "      <td>420</td>\n",
              "      <td>1</td>\n",
              "      <td>30</td>\n",
              "      <td>255</td>\n",
              "      <td>0.00</td>\n",
              "      <td>0.00</td>\n",
              "      <td>0.00</td>\n",
              "      <td>http</td>\n",
              "      <td>normal</td>\n",
              "    </tr>\n",
              "  </tbody>\n",
              "</table>\n",
              "</div>"
            ],
            "text/plain": [
              "   src_bytes  dst_bytes  logged_in  count  dst_host_srv_count  \\\n",
              "0        491          0          0      2                  25   \n",
              "1        146          0          0     13                   1   \n",
              "2          0          0          0    123                  26   \n",
              "3        232       8153          1      5                 255   \n",
              "4        199        420          1     30                 255   \n",
              "\n",
              "   dst_host_diff_srv_rate  dst_host_same_src_port_rate  \\\n",
              "0                    0.03                         0.17   \n",
              "1                    0.60                         0.88   \n",
              "2                    0.05                         0.00   \n",
              "3                    0.00                         0.03   \n",
              "4                    0.00                         0.00   \n",
              "\n",
              "   dst_host_srv_serror_rate   service   attack  \n",
              "0                      0.00  ftp_data   normal  \n",
              "1                      0.00     other   normal  \n",
              "2                      1.00   private  neptune  \n",
              "3                      0.01      http   normal  \n",
              "4                      0.00      http   normal  "
            ]
          },
          "metadata": {
            "tags": []
          },
          "execution_count": 33
        }
      ]
    },
    {
      "cell_type": "code",
      "metadata": {
        "id": "YzL6I5U13hZZ",
        "colab_type": "code",
        "colab": {}
      },
      "source": [
        "# data_train.drop(['num_outbound_cmds'], axis=1, inplace=True)\n",
        "# data_test.drop(['num_outbound_cmds'], axis=1, inplace=True)\n",
        "# # Attack Class Distribution\n",
        "# attack_class_freq_train = data_train[['attack_class']].apply(lambda x: x.value_counts())\n",
        "# attack_class_freq_test = data_test[['attack_class']].apply(lambda x: x.value_counts())\n",
        "# attack_class_freq_train['frequency_percent_train'] = round((100 * attack_class_freq_train / attack_class_freq_train.sum()),2)\n",
        "# attack_class_freq_test['frequency_percent_test'] = round((100 * attack_class_freq_test / attack_class_freq_test.sum()),2)\n",
        "\n",
        "# attack_class_dist = pd.concat([attack_class_freq_train,attack_class_freq_test], axis=1) \n",
        "# attack_class_dist\n",
        "# from sklearn.preprocessing import StandardScaler\n",
        "# scaler = StandardScaler()\n",
        "\n",
        "# # extract numerical attributes and scale it to have zero mean and unit variance  \n",
        "# cols = data_train.select_dtypes(include=['float64','int64']).columns\n",
        "# sc_train = scaler.fit_transform(data_train.select_dtypes(include=['float64','int64']))\n",
        "# sc_test = scaler.fit_transform(data_test.select_dtypes(include=['float64','int64']))\n",
        "\n",
        "# # turn the result back to a dataframe\n",
        "# sc_traindf = pd.DataFrame(sc_train, columns = cols)\n",
        "# sc_testdf = pd.DataFrame(sc_test, columns = cols)\n",
        "# #Encoding of Categorical Attributes\n",
        "# from sklearn.preprocessing import LabelEncoder\n",
        "# encoder = LabelEncoder()\n",
        "\n",
        "# # extract categorical attributes from both training and test sets \n",
        "# cattrain = data_train.select_dtypes(include=['object']).copy()\n",
        "# cattest = data_test.select_dtypes(include=['object']).copy()\n",
        "\n",
        "# # encode the categorical attributes\n",
        "# traincat = cattrain.apply(encoder.fit_transform)\n",
        "# testcat = cattest.apply(encoder.fit_transform)\n",
        "\n",
        "# # separate target column from encoded data \n",
        "# enctrain = traincat.drop(['attack_class'], axis=1)\n",
        "# enctest = testcat.drop(['attack_class'], axis=1)\n",
        "\n",
        "# cat_Ytrain = traincat[['attack_class']].copy()\n",
        "# cat_Ytest = testcat[['attack_class']].copy()\n",
        "# from imblearn.over_sampling import RandomOverSampler \n",
        "# from collections import Counter\n",
        "\n",
        "# # define columns and extract encoded train set for sampling \n",
        "# sc_traindf = data_train.select_dtypes(include=['float64','int64'])\n",
        "# refclasscol = pd.concat([sc_traindf, enctrain], axis=1).columns\n",
        "# refclass = np.concatenate((sc_train, enctrain.values), axis=1)\n",
        "# X = refclass\n",
        "\n",
        "# # reshape target column to 1D array shape  \n",
        "# c, r = cat_Ytest.values.shape\n",
        "# y_test = cat_Ytest.values.reshape(c,)\n",
        "\n",
        "# c, r = cat_Ytrain.values.shape\n",
        "# y = cat_Ytrain.values.reshape(c,)\n",
        "\n",
        "# # apply the random over-sampling\n",
        "# ros = RandomOverSampler(random_state=42)\n",
        "# X_res, y_res = ros.fit_sample(X, y)\n",
        "# print('Original dataset shape {}'.format(Counter(y)))\n",
        "# print('Resampled dataset shape {}'.format(Counter(y_res)))\n",
        "# from sklearn.ensemble import RandomForestClassifier\n",
        "# rfc = RandomForestClassifier();\n",
        "\n",
        "# # fit random forest classifier on the training set\n",
        "# rfc.fit(X_res, y_res);\n",
        "# # extract important features\n",
        "# score = np.round(rfc.feature_importances_,3)\n",
        "# importances = pd.DataFrame({'feature':refclasscol,'importance':score})\n",
        "# importances = importances.sort_values('importance',ascending=False).set_index('feature')\n",
        "# # plot importances\n",
        "# plt.rcParams['figure.figsize'] = (11, 4)\n",
        "# importances.plot.bar();\n",
        "# from sklearn.feature_selection import RFE\n",
        "# import itertools\n",
        "# rfc = RandomForestClassifier()\n",
        "\n",
        "# # create the RFE model and select 10 attributes\n",
        "# rfe = RFE(rfc, n_features_to_select=10)\n",
        "# rfe = rfe.fit(X_res, y_res)\n",
        "\n",
        "# # summarize the selection of the attributes\n",
        "# feature_map = [(i, v) for i, v in itertools.zip_longest(rfe.get_support(), refclasscol)]\n",
        "# selected_features = [v for i, v in feature_map if i==True]\n",
        "\n",
        "\n",
        "\n",
        "\n",
        "# # define columns to new dataframe\n",
        "# newcol = list(refclasscol)\n",
        "# newcol.append('attack_class')\n",
        "\n",
        "# # add a dimension to target\n",
        "# new_y_res = y_res[:, np.newaxis]\n",
        "\n",
        "# # create a dataframe from sampled data\n",
        "# res_arr = np.concatenate((X_res, new_y_res), axis=1)\n",
        "# res_df = pd.DataFrame(res_arr, columns = newcol) \n",
        "\n",
        "# # create test dataframe\n",
        "# reftest = pd.concat([sc_testdf, testcat], axis=1)\n",
        "# reftest['attack_class'] = reftest['attack_class'].astype(np.float64)\n",
        "# reftest['protocol_type'] = reftest['protocol_type'].astype(np.float64)\n",
        "# reftest['flag'] = reftest['flag'].astype(np.float64)\n",
        "# reftest['service'] = reftest['service'].astype(np.float64)\n",
        "\n",
        "# res_df.shape\n",
        "# reftest.shape\n"
      ],
      "execution_count": 0,
      "outputs": []
    },
    {
      "cell_type": "code",
      "metadata": {
        "id": "SeRShi0G3hZc",
        "colab_type": "code",
        "colab": {}
      },
      "source": [
        "#usual\n",
        "selected_features = ['src_bytes',\n",
        " 'dst_bytes',\n",
        " 'logged_in',\n",
        " 'count',\n",
        " 'dst_host_srv_count',\n",
        " 'dst_host_diff_srv_rate',\n",
        " 'dst_host_same_src_port_rate',\n",
        " 'dst_host_srv_serror_rate',\n",
        " 'attack']\n",
        "data_train = data_train[selected_features]\n",
        "data_test = data_test[selected_features]\n",
        "frames = [data_train,data_test]\n",
        "result = pd.concat(frames)"
      ],
      "execution_count": 0,
      "outputs": []
    },
    {
      "cell_type": "code",
      "metadata": {
        "id": "Da8wp2dm3hZf",
        "colab_type": "code",
        "outputId": "ddb37451-81a8-4b50-c939-962cc1bf81ba",
        "colab": {
          "base_uri": "https://localhost:8080/",
          "height": 70
        }
      },
      "source": [
        "print(data_test.shape)\n",
        "print(data_train.shape)\n",
        "print(result.shape)"
      ],
      "execution_count": 0,
      "outputs": [
        {
          "output_type": "stream",
          "text": [
            "(22544, 9)\n",
            "(125973, 9)\n",
            "(148517, 9)\n"
          ],
          "name": "stdout"
        }
      ]
    },
    {
      "cell_type": "code",
      "metadata": {
        "id": "1xNGNpYx3hZl",
        "colab_type": "code",
        "colab": {}
      },
      "source": [
        "mapping = {'ipsweep': 'Probe','satan': 'Probe','nmap': 'Probe','portsweep': 'Probe','saint': 'Probe','mscan': 'Probe',\n",
        "        'teardrop': 'DoS','pod': 'DoS','land': 'DoS','back': 'DoS','neptune': 'DoS','smurf': 'DoS','mailbomb': 'DoS',\n",
        "        'udpstorm': 'DoS','apache2': 'DoS','processtable': 'DoS',\n",
        "        'perl': 'U2R','loadmodule': 'U2R','rootkit': 'U2R','buffer_overflow': 'U2R','xterm': 'U2R','ps': 'U2R',\n",
        "        'sqlattack': 'U2R','httptunnel': 'U2R',\n",
        "        'ftp_write': 'R2L','phf': 'R2L','guess_passwd': 'R2L','warezmaster': 'R2L','warezclient': 'R2L','imap': 'R2L',\n",
        "        'spy': 'R2L','multihop': 'R2L','named': 'R2L','snmpguess': 'R2L','worm': 'R2L','snmpgetattack': 'R2L',\n",
        "        'xsnoop': 'R2L','xlock': 'R2L','sendmail': 'R2L',\n",
        "        'normal': 'Normal'\n",
        "        }"
      ],
      "execution_count": 0,
      "outputs": []
    },
    {
      "cell_type": "code",
      "metadata": {
        "id": "j_bAWUDJ3hZt",
        "colab_type": "code",
        "colab": {}
      },
      "source": [
        "# # 'num_outbound_cmds' field has all 0 values. Hence, it will be removed from both train and test dataset since it is a redundant field.\n",
        "# data_train['attack_class'] = data_train['attack'].apply(lambda v: mapping[v])\n",
        "# data_test['attack_class'] = data_test['attack'].apply(lambda v: mapping[v])\n",
        "result['attack_class'] = result['attack'].apply(lambda v: mapping[v])"
      ],
      "execution_count": 0,
      "outputs": []
    },
    {
      "cell_type": "code",
      "metadata": {
        "id": "u8K2PwV13hZw",
        "colab_type": "code",
        "outputId": "f837213b-52d3-4de8-d0ec-d4f29a22bff2",
        "colab": {
          "base_uri": "https://localhost:8080/",
          "height": 35
        }
      },
      "source": [
        "print(result.shape)"
      ],
      "execution_count": 0,
      "outputs": [
        {
          "output_type": "stream",
          "text": [
            "(148517, 10)\n"
          ],
          "name": "stdout"
        }
      ]
    },
    {
      "cell_type": "code",
      "metadata": {
        "id": "gnT-PCqL3hZz",
        "colab_type": "code",
        "outputId": "3b95ce33-d2e7-426a-feff-7543c7b12918",
        "colab": {
          "base_uri": "https://localhost:8080/",
          "height": 35
        }
      },
      "source": [
        "del result['attack']\n",
        "print(result.shape)"
      ],
      "execution_count": 0,
      "outputs": [
        {
          "output_type": "stream",
          "text": [
            "(148517, 9)\n"
          ],
          "name": "stdout"
        }
      ]
    },
    {
      "cell_type": "code",
      "metadata": {
        "id": "uAPxgv733hZ5",
        "colab_type": "code",
        "colab": {}
      },
      "source": [
        ""
      ],
      "execution_count": 0,
      "outputs": []
    },
    {
      "cell_type": "code",
      "metadata": {
        "id": "wexKoS1_3hZ9",
        "colab_type": "code",
        "colab": {}
      },
      "source": [
        "# result['service'] = pd.Categorical(result['service'])\n",
        "# dfDummies = pd.get_dummies(result['service'], prefix = 'category')\n"
      ],
      "execution_count": 0,
      "outputs": []
    },
    {
      "cell_type": "code",
      "metadata": {
        "id": "Zq_f2y3z3haA",
        "colab_type": "code",
        "colab": {}
      },
      "source": [
        "# del result['service']\n"
      ],
      "execution_count": 0,
      "outputs": []
    },
    {
      "cell_type": "code",
      "metadata": {
        "id": "SQkcpnkb3haD",
        "colab_type": "code",
        "outputId": "345d0a41-fdb8-4075-dcb9-b5db9c476a98",
        "colab": {
          "base_uri": "https://localhost:8080/",
          "height": 34
        }
      },
      "source": [
        "print(result.shape)\n"
      ],
      "execution_count": 0,
      "outputs": [
        {
          "output_type": "stream",
          "text": [
            "(148517, 9)\n"
          ],
          "name": "stdout"
        }
      ]
    },
    {
      "cell_type": "code",
      "metadata": {
        "id": "kKb0sT4v3haJ",
        "colab_type": "code",
        "outputId": "af491f19-1b60-4ff6-866e-80f643e64332",
        "colab": {
          "base_uri": "https://localhost:8080/",
          "height": 135
        }
      },
      "source": [
        "result.head(3)"
      ],
      "execution_count": 0,
      "outputs": [
        {
          "output_type": "execute_result",
          "data": {
            "text/html": [
              "<div>\n",
              "<style scoped>\n",
              "    .dataframe tbody tr th:only-of-type {\n",
              "        vertical-align: middle;\n",
              "    }\n",
              "\n",
              "    .dataframe tbody tr th {\n",
              "        vertical-align: top;\n",
              "    }\n",
              "\n",
              "    .dataframe thead th {\n",
              "        text-align: right;\n",
              "    }\n",
              "</style>\n",
              "<table border=\"1\" class=\"dataframe\">\n",
              "  <thead>\n",
              "    <tr style=\"text-align: right;\">\n",
              "      <th></th>\n",
              "      <th>src_bytes</th>\n",
              "      <th>dst_bytes</th>\n",
              "      <th>logged_in</th>\n",
              "      <th>count</th>\n",
              "      <th>dst_host_srv_count</th>\n",
              "      <th>dst_host_diff_srv_rate</th>\n",
              "      <th>dst_host_same_src_port_rate</th>\n",
              "      <th>dst_host_srv_serror_rate</th>\n",
              "      <th>attack_class</th>\n",
              "    </tr>\n",
              "  </thead>\n",
              "  <tbody>\n",
              "    <tr>\n",
              "      <th>0</th>\n",
              "      <td>491</td>\n",
              "      <td>0</td>\n",
              "      <td>0</td>\n",
              "      <td>2</td>\n",
              "      <td>25</td>\n",
              "      <td>0.03</td>\n",
              "      <td>0.17</td>\n",
              "      <td>0.0</td>\n",
              "      <td>Normal</td>\n",
              "    </tr>\n",
              "    <tr>\n",
              "      <th>1</th>\n",
              "      <td>146</td>\n",
              "      <td>0</td>\n",
              "      <td>0</td>\n",
              "      <td>13</td>\n",
              "      <td>1</td>\n",
              "      <td>0.60</td>\n",
              "      <td>0.88</td>\n",
              "      <td>0.0</td>\n",
              "      <td>Normal</td>\n",
              "    </tr>\n",
              "    <tr>\n",
              "      <th>2</th>\n",
              "      <td>0</td>\n",
              "      <td>0</td>\n",
              "      <td>0</td>\n",
              "      <td>123</td>\n",
              "      <td>26</td>\n",
              "      <td>0.05</td>\n",
              "      <td>0.00</td>\n",
              "      <td>1.0</td>\n",
              "      <td>DoS</td>\n",
              "    </tr>\n",
              "  </tbody>\n",
              "</table>\n",
              "</div>"
            ],
            "text/plain": [
              "   src_bytes  dst_bytes  ...  dst_host_srv_serror_rate  attack_class\n",
              "0        491          0  ...                       0.0        Normal\n",
              "1        146          0  ...                       0.0        Normal\n",
              "2          0          0  ...                       1.0           DoS\n",
              "\n",
              "[3 rows x 9 columns]"
            ]
          },
          "metadata": {
            "tags": []
          },
          "execution_count": 173
        }
      ]
    },
    {
      "cell_type": "code",
      "metadata": {
        "id": "G6qrvV0u3haN",
        "colab_type": "code",
        "colab": {}
      },
      "source": [
        "\n",
        "X= result.iloc[:,:8]\n",
        "Y= result.iloc[:,-1]"
      ],
      "execution_count": 0,
      "outputs": []
    },
    {
      "cell_type": "code",
      "metadata": {
        "id": "Cw2nVWNb3haQ",
        "colab_type": "code",
        "outputId": "ea87f60d-cbb5-4feb-c33e-daa0aa899b92",
        "colab": {
          "base_uri": "https://localhost:8080/",
          "height": 52
        }
      },
      "source": [
        "print(X.shape)\n",
        "print(Y.shape)"
      ],
      "execution_count": 0,
      "outputs": [
        {
          "output_type": "stream",
          "text": [
            "(148517, 8)\n",
            "(148517,)\n"
          ],
          "name": "stdout"
        }
      ]
    },
    {
      "cell_type": "code",
      "metadata": {
        "id": "UiGtgj3-3haW",
        "colab_type": "code",
        "colab": {}
      },
      "source": [
        "X= pd.concat([X, dfDummies], axis=1)\n"
      ],
      "execution_count": 0,
      "outputs": []
    },
    {
      "cell_type": "code",
      "metadata": {
        "id": "fQzmbQB_3haf",
        "colab_type": "code",
        "outputId": "260e1393-e256-4d30-8c0b-fcaca54f7fbc",
        "colab": {
          "base_uri": "https://localhost:8080/",
          "height": 35
        }
      },
      "source": [
        "print(X.shape)"
      ],
      "execution_count": 0,
      "outputs": [
        {
          "output_type": "stream",
          "text": [
            "(148517, 78)\n"
          ],
          "name": "stdout"
        }
      ]
    },
    {
      "cell_type": "code",
      "metadata": {
        "id": "GLJP1nc03hal",
        "colab_type": "code",
        "colab": {}
      },
      "source": [
        "X  = X.values\n",
        "Y  = Y.values\n"
      ],
      "execution_count": 0,
      "outputs": []
    },
    {
      "cell_type": "code",
      "metadata": {
        "id": "MPjpqXPm3hap",
        "colab_type": "code",
        "outputId": "5602b6a7-d4ec-49a0-a529-81c00eddfd87",
        "colab": {
          "base_uri": "https://localhost:8080/",
          "height": 88
        }
      },
      "source": [
        "from sklearn.model_selection import train_test_split\n",
        "X_train, X_test, Y_train, Y_test = train_test_split(X, Y, test_size=0.4, random_state=1)\n",
        "print(X_train.shape)\n",
        "print(Y_train.shape)\n",
        "print(X_test.shape)\n",
        "print(Y_test.shape)"
      ],
      "execution_count": 0,
      "outputs": [
        {
          "output_type": "stream",
          "text": [
            "(89110, 78)\n",
            "(89110,)\n",
            "(59407, 78)\n",
            "(59407,)\n"
          ],
          "name": "stdout"
        }
      ]
    },
    {
      "cell_type": "code",
      "metadata": {
        "id": "Mha3mJZs3hav",
        "colab_type": "code",
        "colab": {}
      },
      "source": [
        "from sklearn.preprocessing import LabelEncoder\n",
        "from keras.utils import np_utils\n",
        "encoder = LabelEncoder()\n",
        "encoder.fit(Y_train)\n",
        "encoded_Y = encoder.transform(Y_train)\n",
        "# convert integers to dummy variables (i.e. one hot encoded)\n",
        "Y_train = np_utils.to_categorical(encoded_Y)"
      ],
      "execution_count": 0,
      "outputs": []
    },
    {
      "cell_type": "code",
      "metadata": {
        "id": "eLBLkW483ha0",
        "colab_type": "code",
        "colab": {}
      },
      "source": [
        "from sklearn.preprocessing import LabelEncoder\n",
        "from keras.utils import np_utils\n",
        "encoder = LabelEncoder()\n",
        "encoder.fit(Y_test)\n",
        "encoded_Y = encoder.transform(Y_test)\n",
        "# convert integers to dummy variables (i.e. one hot encoded)\n",
        "Y_test = np_utils.to_categorical(encoded_Y)"
      ],
      "execution_count": 0,
      "outputs": []
    },
    {
      "cell_type": "code",
      "metadata": {
        "id": "W93a2Ktd3ha3",
        "colab_type": "code",
        "outputId": "bed7ca8b-43b3-4a96-a7c1-96bc7c7b45eb",
        "colab": {
          "base_uri": "https://localhost:8080/",
          "height": 88
        }
      },
      "source": [
        "print(X_train.shape)\n",
        "print(X_test.shape)\n",
        "print(Y_train.shape)\n",
        "print(Y_test.shape)\n",
        "\n"
      ],
      "execution_count": 0,
      "outputs": [
        {
          "output_type": "stream",
          "text": [
            "(89110, 78)\n",
            "(59407, 78)\n",
            "(89110, 5)\n",
            "(59407, 5)\n"
          ],
          "name": "stdout"
        }
      ]
    },
    {
      "cell_type": "code",
      "metadata": {
        "id": "dkRIMY0T3ha8",
        "colab_type": "code",
        "colab": {}
      },
      "source": [
        "from keras.models import Sequential\n",
        "from keras.layers import Activation, Dropout, Dense\n",
        "\n",
        "model = Sequential()\n",
        "model.add(Dense(128, input_dim=78, activation='relu'))\n",
        "model.add(Dense(5, activation='softmax'))\n"
      ],
      "execution_count": 0,
      "outputs": []
    },
    {
      "cell_type": "code",
      "metadata": {
        "id": "xn2oZg4a5CB1",
        "colab_type": "code",
        "colab": {}
      },
      "source": [
        ""
      ],
      "execution_count": 0,
      "outputs": []
    },
    {
      "cell_type": "code",
      "metadata": {
        "id": "W2kHTW-S3ha_",
        "colab_type": "code",
        "outputId": "90ec6383-4a6d-416e-81cf-da19185faa9f",
        "colab": {
          "base_uri": "https://localhost:8080/",
          "height": 230
        }
      },
      "source": [
        "# Compile model\n",
        "model.compile(loss=tf.keras.losses.CategoricalHinge(), optimizer='adam', metrics=['accuracy'])\n",
        "model.summary()\n"
      ],
      "execution_count": 0,
      "outputs": [
        {
          "output_type": "stream",
          "text": [
            "Model: \"sequential_4\"\n",
            "_________________________________________________________________\n",
            "Layer (type)                 Output Shape              Param #   \n",
            "=================================================================\n",
            "dense_7 (Dense)              (None, 128)               10112     \n",
            "_________________________________________________________________\n",
            "dense_8 (Dense)              (None, 5)                 645       \n",
            "=================================================================\n",
            "Total params: 10,757\n",
            "Trainable params: 10,757\n",
            "Non-trainable params: 0\n",
            "_________________________________________________________________\n"
          ],
          "name": "stdout"
        }
      ]
    },
    {
      "cell_type": "code",
      "metadata": {
        "id": "Q3EThidC3hbC",
        "colab_type": "code",
        "outputId": "e718ecc7-fa46-4ace-e677-eb2edcb5d15c",
        "colab": {
          "base_uri": "https://localhost:8080/",
          "height": 1000
        }
      },
      "source": [
        "from keras.callbacks import TensorBoard"
        "%reload_ext tensorboard"
        "import datetime"
        "#the number of samples processed for each epoch is batch_size * steps_per_epochs"
        "log_dir='logs/fit/' + datetime.datetime.now().strftime('%Y%m%d-%H%M%S')"
         "tensorboard_callback = tf.keras.callbacks.TensorBoard(log_dir=log_dir, histogram_freq=1)"
        "history = model.fit(X_train, Y_train,batch_size=32,epochs=50,verbose=1,validation_data=(X_test, Y_test), callbacks=[tensorboard_callback])\n"
      ],
      "execution_count": 0,
      "outputs": [
        {
          "output_type": "stream",
          "text": [
            "Train on 89110 samples, validate on 59407 samples\n",
            "Epoch 1/50\n",
            "89110/89110 [==============================] - 17s 188us/step - loss: 1.0316 - acc: 0.9105 - val_loss: 0.7939 - val_acc: 0.9357\n",
            "Epoch 2/50\n",
            "89110/89110 [==============================] - 17s 190us/step - loss: 0.7590 - acc: 0.9369 - val_loss: 0.7608 - val_acc: 0.9412\n",
            "Epoch 3/50\n",
            "89110/89110 [==============================] - 17s 187us/step - loss: 0.7514 - acc: 0.9375 - val_loss: 0.6491 - val_acc: 0.9481\n",
            "Epoch 4/50\n",
            "89110/89110 [==============================] - 17s 186us/step - loss: 0.7953 - acc: 0.9351 - val_loss: 0.9866 - val_acc: 0.9270\n",
            "Epoch 5/50\n",
            "89110/89110 [==============================] - 17s 186us/step - loss: 0.6540 - acc: 0.9481 - val_loss: 0.7472 - val_acc: 0.9207\n",
            "Epoch 6/50\n",
            "89110/89110 [==============================] - 16s 184us/step - loss: 0.6278 - acc: 0.9495 - val_loss: 0.5952 - val_acc: 0.9523\n",
            "Epoch 7/50\n",
            "89110/89110 [==============================] - 17s 186us/step - loss: 0.6303 - acc: 0.9494 - val_loss: 0.6479 - val_acc: 0.9526\n",
            "Epoch 8/50\n",
            "89110/89110 [==============================] - 16s 184us/step - loss: 0.6074 - acc: 0.9518 - val_loss: 0.6379 - val_acc: 0.9478\n",
            "Epoch 9/50\n",
            "89110/89110 [==============================] - 17s 186us/step - loss: 0.5878 - acc: 0.9528 - val_loss: 0.5485 - val_acc: 0.9558\n",
            "Epoch 10/50\n",
            "89110/89110 [==============================] - 17s 188us/step - loss: 0.5586 - acc: 0.9540 - val_loss: 0.7321 - val_acc: 0.9049\n",
            "Epoch 11/50\n",
            "89110/89110 [==============================] - 16s 183us/step - loss: 0.7901 - acc: 0.9408 - val_loss: 0.8581 - val_acc: 0.9381\n",
            "Epoch 12/50\n",
            "89110/89110 [==============================] - 17s 186us/step - loss: 0.6239 - acc: 0.9509 - val_loss: 0.5409 - val_acc: 0.9547\n",
            "Epoch 13/50\n",
            "89110/89110 [==============================] - 16s 183us/step - loss: 0.5597 - acc: 0.9561 - val_loss: 0.5104 - val_acc: 0.9601\n",
            "Epoch 14/50\n",
            "89110/89110 [==============================] - 16s 183us/step - loss: 0.5306 - acc: 0.9583 - val_loss: 0.5266 - val_acc: 0.9611\n",
            "Epoch 15/50\n",
            "89110/89110 [==============================] - 16s 183us/step - loss: 0.5620 - acc: 0.9568 - val_loss: 0.5460 - val_acc: 0.9477\n",
            "Epoch 16/50\n",
            "89110/89110 [==============================] - 16s 182us/step - loss: 0.5262 - acc: 0.9590 - val_loss: 0.5083 - val_acc: 0.9600\n",
            "Epoch 17/50\n",
            "89110/89110 [==============================] - 16s 183us/step - loss: 0.5066 - acc: 0.9609 - val_loss: 0.4942 - val_acc: 0.9628\n",
            "Epoch 18/50\n",
            "89110/89110 [==============================] - 16s 184us/step - loss: 0.5349 - acc: 0.9593 - val_loss: 0.5023 - val_acc: 0.9608\n",
            "Epoch 19/50\n",
            "89110/89110 [==============================] - 16s 185us/step - loss: 0.5166 - acc: 0.9602 - val_loss: 0.4914 - val_acc: 0.9624\n",
            "Epoch 20/50\n",
            "89110/89110 [==============================] - 16s 185us/step - loss: 0.5264 - acc: 0.9594 - val_loss: 0.4903 - val_acc: 0.9641\n",
            "Epoch 21/50\n",
            "89110/89110 [==============================] - 18s 206us/step - loss: 0.5204 - acc: 0.9603 - val_loss: 0.5312 - val_acc: 0.9594\n",
            "Epoch 22/50\n",
            "89110/89110 [==============================] - 17s 188us/step - loss: 0.5142 - acc: 0.9611 - val_loss: 0.4960 - val_acc: 0.9624\n",
            "Epoch 23/50\n",
            "89110/89110 [==============================] - 17s 186us/step - loss: 0.4983 - acc: 0.9621 - val_loss: 0.4870 - val_acc: 0.9639\n",
            "Epoch 24/50\n",
            "89110/89110 [==============================] - 16s 185us/step - loss: 0.5115 - acc: 0.9612 - val_loss: 0.4934 - val_acc: 0.9623\n",
            "Epoch 25/50\n",
            "89110/89110 [==============================] - 16s 185us/step - loss: 0.5093 - acc: 0.9613 - val_loss: 0.4892 - val_acc: 0.9642\n",
            "Epoch 26/50\n",
            "89110/89110 [==============================] - 17s 187us/step - loss: 0.5024 - acc: 0.9618 - val_loss: 0.4906 - val_acc: 0.9621\n",
            "Epoch 27/50\n",
            "89110/89110 [==============================] - 17s 186us/step - loss: 0.5078 - acc: 0.9617 - val_loss: 0.7031 - val_acc: 0.9493\n",
            "Epoch 28/50\n",
            "89110/89110 [==============================] - 17s 187us/step - loss: 0.5348 - acc: 0.9599 - val_loss: 0.4996 - val_acc: 0.9614\n",
            "Epoch 29/50\n",
            "89110/89110 [==============================] - 17s 186us/step - loss: 0.5036 - acc: 0.9618 - val_loss: 0.5345 - val_acc: 0.9579\n",
            "Epoch 30/50\n",
            "89110/89110 [==============================] - 17s 187us/step - loss: 0.4977 - acc: 0.9626 - val_loss: 0.4874 - val_acc: 0.9641\n",
            "Epoch 31/50\n",
            "89110/89110 [==============================] - 16s 184us/step - loss: 0.4895 - acc: 0.9627 - val_loss: 0.5087 - val_acc: 0.9566\n",
            "Epoch 32/50\n",
            "89110/89110 [==============================] - 16s 184us/step - loss: 0.4937 - acc: 0.9633 - val_loss: 0.4895 - val_acc: 0.9639\n",
            "Epoch 33/50\n",
            "89110/89110 [==============================] - 16s 184us/step - loss: 0.4931 - acc: 0.9632 - val_loss: 0.4868 - val_acc: 0.9646\n",
            "Epoch 34/50\n",
            "89110/89110 [==============================] - 17s 187us/step - loss: 0.5066 - acc: 0.9624 - val_loss: 0.5019 - val_acc: 0.9639\n",
            "Epoch 35/50\n",
            "89110/89110 [==============================] - 16s 184us/step - loss: 0.5058 - acc: 0.9625 - val_loss: 0.5132 - val_acc: 0.9619\n",
            "Epoch 36/50\n",
            "89110/89110 [==============================] - 16s 183us/step - loss: 0.5028 - acc: 0.9626 - val_loss: 0.4900 - val_acc: 0.9640\n",
            "Epoch 37/50\n",
            "89110/89110 [==============================] - 16s 183us/step - loss: 0.4912 - acc: 0.9635 - val_loss: 0.4674 - val_acc: 0.9626\n",
            "Epoch 38/50\n",
            "89110/89110 [==============================] - 16s 185us/step - loss: 0.5039 - acc: 0.9621 - val_loss: 0.4928 - val_acc: 0.9614\n",
            "Epoch 39/50\n",
            "89110/89110 [==============================] - 16s 183us/step - loss: 0.4861 - acc: 0.9632 - val_loss: 0.4417 - val_acc: 0.9644\n",
            "Epoch 40/50\n",
            "89110/89110 [==============================] - 16s 184us/step - loss: 0.4712 - acc: 0.9640 - val_loss: 0.4943 - val_acc: 0.9616\n",
            "Epoch 41/50\n",
            "89110/89110 [==============================] - 16s 185us/step - loss: 0.4632 - acc: 0.9638 - val_loss: 0.5259 - val_acc: 0.9575\n",
            "Epoch 42/50\n",
            "89110/89110 [==============================] - 16s 184us/step - loss: 0.4552 - acc: 0.9647 - val_loss: 0.4870 - val_acc: 0.9651\n",
            "Epoch 43/50\n",
            "89110/89110 [==============================] - 16s 183us/step - loss: 0.4949 - acc: 0.9633 - val_loss: 0.4841 - val_acc: 0.9642\n",
            "Epoch 44/50\n",
            "89110/89110 [==============================] - 17s 186us/step - loss: 0.4337 - acc: 0.9658 - val_loss: 0.3542 - val_acc: 0.9695\n",
            "Epoch 45/50\n",
            "89110/89110 [==============================] - 19s 209us/step - loss: 0.4027 - acc: 0.9666 - val_loss: 0.3865 - val_acc: 0.9700\n",
            "Epoch 46/50\n",
            "89110/89110 [==============================] - 20s 226us/step - loss: 0.3824 - acc: 0.9688 - val_loss: 0.3642 - val_acc: 0.9687\n",
            "Epoch 47/50\n",
            "89110/89110 [==============================] - 17s 190us/step - loss: 0.3777 - acc: 0.9691 - val_loss: 0.3871 - val_acc: 0.9685\n",
            "Epoch 48/50\n",
            "89110/89110 [==============================] - 16s 184us/step - loss: 0.3925 - acc: 0.9679 - val_loss: 0.3593 - val_acc: 0.9716\n",
            "Epoch 49/50\n",
            "89110/89110 [==============================] - 16s 184us/step - loss: 0.3962 - acc: 0.9678 - val_loss: 0.3794 - val_acc: 0.9684\n",
            "Epoch 50/50\n",
            "89110/89110 [==============================] - 17s 189us/step - loss: 0.3856 - acc: 0.9684 - val_loss: 0.3656 - val_acc: 0.9651\n"
          ],
          "name": "stdout"
        }
      ]
    },
    {
      "cell_type": "markdown",
      "metadata": {
        "id": "iUUt60w-3hbG",
        "colab_type": "text"
      },
      "source": [
        "# Evaluating the Model"
      ]
    },
    {
      "cell_type": "code",
      "metadata": {
        "id": "1kuBeb8hIc8U",
        "colab_type": "code",
        "outputId": "f0503552-38e7-4879-f418-78a883c2ebed",
        "colab": {
          "base_uri": "https://localhost:8080/",
          "height": 106
        }
      },
      "source": [
        "print(Y_train[4])#DOS\n",
        "print(Y_train[3])#R2U\n",
        "print(Y_train[1])#Normal\n",
        "print(Y_train[2323])\n",
        "print(Y_train[836])#Probe\n",
        "\n",
        "\n",
        "np.savetxt(r'testing.txt', X_train, fmt='%d')\n"
      ],
      "execution_count": 0,
      "outputs": [
        {
          "output_type": "stream",
          "text": [
            "[1. 0. 0. 0. 0.]\n",
            "[0. 0. 0. 1. 0.]\n",
            "[0. 1. 0. 0. 0.]\n",
            "[1. 0. 0. 0. 0.]\n",
            "[0. 0. 1. 0. 0.]\n"
          ],
          "name": "stdout"
        }
      ]
    },
    {
      "cell_type": "code",
      "metadata": {
        "id": "RehpeMH-3hbI",
        "colab_type": "code",
        "outputId": "73487de5-d6d3-4082-9188-e2cb1012bc48",
        "colab": {
          "base_uri": "https://localhost:8080/",
          "height": 644
        }
      },
      "source": [
        "score = model.evaluate(X_train, Y_train, verbose=0)\n",
        "trainerr = model.evaluate(X_test, Y_test, verbose=0)\n",
        "print('Train loss:', score[0])\n",
        "print('Train accuracy:', score[1])\n",
        "print('Test loss:',trainerr[0])\n",
        "print('Test accuracy:',trainerr[1])\n",
        "\n",
        "\n",
        "\n",
        "import matplotlib.pyplot as plt\n",
        "plt.plot(history.history['acc'])\n",
        "plt.plot(history.history['val_acc'])\n",
        "plt.title('Model accuracy')\n",
        "plt.ylabel('Accuracy')\n",
        "plt.xlabel('Epoch') \n",
        "plt.legend(['Train', 'Test'], loc='upper left')\n",
        "plt.show()\n",
        "\n",
        "\n",
        "plt.plot(history.history['loss'])\n",
        "plt.plot(history.history['val_loss'])\n",
        "plt.title('Model loss')\n",
        "plt.ylabel('losss')\n",
        "plt.xlabel('Epoch') \n",
        "plt.legend(['Train', 'Test'], loc='upper right')\n",
        "plt.show()\n",
        "\n"
      ],
      "execution_count": 0,
      "outputs": [
        {
          "output_type": "stream",
          "text": [
            "Train loss: 0.36905616134081837\n",
            "Train accuracy: 0.9651329817146902\n",
            "Test loss: 0.3656426795672604\n",
            "Test accuracy: 0.9650714562256973\n"
          ],
          "name": "stdout"
        },
        {
          "output_type": "display_data",
          "data": {
            "image/png": "iVBORw0KGgoAAAANSUhEUgAAAYgAAAEWCAYAAAB8LwAVAAAABHNCSVQICAgIfAhkiAAAAAlwSFlz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\n",
            "text/plain": [
              "<Figure size 432x288 with 1 Axes>"
            ]
          },
          "metadata": {
            "tags": []
          }
        },
        {
          "output_type": "display_data",
          "data": {
            "image/png": "iVBORw0KGgoAAAANSUhEUgAAAYIAAAEWCAYAAABrDZDcAAAABHNCSVQICAgIfAhkiAAAAAlwSFlz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\nTkSuQmCC\n",
            "text/plain": [
              "<Figure size 432x288 with 1 Axes>"
            ]
          },
          "metadata": {
            "tags": []
          }
        }
      ]
    },
    {
      "cell_type": "code",
      "metadata": {
        "id": "VIgPbiJs3hbM",
        "colab_type": "code",
        "colab": {}
      },
      "source": [
        "model.save(\"model1.h5\")"
      ],
      "execution_count": 0,
      "outputs": []
    },
    {
      "cell_type": "markdown",
      "metadata": {
        "id": "xSZvPoXA3hbX",
        "colab_type": "text"
      },
      "source": [
        "# Predicting on new Data"
      ]
    },
    {
      "cell_type": "code",
      "metadata": {
        "id": "U2wka45H3hbY",
        "colab_type": "code",
        "outputId": "c059a921-5991-4125-cb06-4182f94d13f2",
        "colab": {
          "base_uri": "https://localhost:8080/",
          "height": 35
        }
      },
      "source": [
        "data = X_train[836].reshape(1,78)\n",
        "\n",
        "pred1  = model.predict(data)\n",
        "y_classes = pred1.argmax(axis=-1)\n",
        "# print(y_classes)\n",
        "if(y_classes==0):\n",
        "    print(\"DOS ATTACK DETECTED\")\n",
        "elif(y_classes==1):\n",
        "    print(\"NORMAL PACKET DATA\")\n",
        "elif(y_classes==2):\n",
        "    print(\"PROBE ATTACK(Probe) DETECTED\")\n",
        "elif(y_classes==3):\n",
        "    print(\"REMOTE TO USER ATTACK(R2U) DETECTED\")\n"
      ],
      "execution_count": 0,
      "outputs": [
        {
          "output_type": "stream",
          "text": [
            "PROBE ATTACK(Probe) DETECTED\n"
          ],
          "name": "stdout"
        }
      ]
    },
    {
      "cell_type": "code",
      "metadata": {
        "id": "tqsX4kJA3hbg",
        "colab_type": "code",
        "colab": {}
      },
      "source": [
        ""
      ],
      "execution_count": 0,
      "outputs": []
    }
  ]
}
